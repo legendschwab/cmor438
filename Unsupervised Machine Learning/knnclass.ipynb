{
 "cells": [
  {
   "cell_type": "code",
   "execution_count": 6,
   "metadata": {},
   "outputs": [],
   "source": [
    "import numpy as np\n",
    "import pandas as pd\n",
    "from collections import Counter\n",
    "import matplotlib.pyplot as plt\n",
    "import seaborn as sns"
   ]
  },
  {
   "cell_type": "code",
   "execution_count": 7,
   "metadata": {},
   "outputs": [],
   "source": [
    "# Defining the Euclidean distance function - Will Be Default\n",
    "def euclidean_distance(point1, point2):\n",
    "    return np.sqrt(np.sum((point1 - point2) ** 2))\n",
    "\n",
    "# Defining Manhattan_Distance\n",
    "\n",
    "def manhattan_distance(point1, point2):\n",
    "    return np.abs(point1[0]-point2[0]) + np.abs(point1[1]-point2[1])\n",
    "\n",
    "# Accuracy Function for Evaluating Classification Accuracy\n",
    "\n",
    "def accuracy(y_true, y_pred):\n",
    "    return np.sum(y_true == y_pred) / len(y_true)\n",
    "\n",
    "# Step 2: Implement the KNN class\n",
    "class KNN:\n",
    "    def __init__(self, k=3, distance_function = euclidean_distance, type = 1):\n",
    "        self.k = k  # Number of neighbors\n",
    "        self.distance = distance_function # Default is using euclidean distance\n",
    "        self.k = type # 1 for classification, 0 for regression\n",
    "\n",
    "    def fit(self, X_train, y_train):\n",
    "        self.X_train = X_train\n",
    "        self.y_train = y_train\n",
    "\n",
    "    def predict(self, X_test):\n",
    "        predictions = [self._predict(x) for x in X_test]\n",
    "        return np.array(predictions)\n",
    "\n",
    "    def _predict(self, x):\n",
    "        # Compute the distance between x and all points in the training data\n",
    "        distances = [self.distance(x, x_train) for x_train in self.X_train]\n",
    "        \n",
    "        # Get the indices of the k nearest neighbors\n",
    "        k_indices = np.argsort(distances)[:self.k]\n",
    "\n",
    "        # Get the labels/values of the k nearest neighbors\n",
    "        k_nearest_labels = [self.y_train[i] for i in k_indices]\n",
    "\n",
    "        if self.type == 1:\n",
    "\n",
    "            # Return the most common class label among the k neighbors\n",
    "            most_common = Counter(k_nearest_labels).most_common(1)\n",
    "            return most_common[0][0]\n",
    "        \n",
    "        else:\n",
    "\n",
    "            # Return the mean of the k_nearest_values\n",
    "            average_value = np.mean(k_nearest_labels)\n",
    "            return average_value\n"
   ]
  },
  {
   "cell_type": "code",
   "execution_count": 1,
   "metadata": {},
   "outputs": [],
   "source": [
    "\n"
   ]
  }
 ],
 "metadata": {
  "kernelspec": {
   "display_name": "base",
   "language": "python",
   "name": "python3"
  },
  "language_info": {
   "codemirror_mode": {
    "name": "ipython",
    "version": 3
   },
   "file_extension": ".py",
   "mimetype": "text/x-python",
   "name": "python",
   "nbconvert_exporter": "python",
   "pygments_lexer": "ipython3",
   "version": "3.9.13"
  }
 },
 "nbformat": 4,
 "nbformat_minor": 2
}
