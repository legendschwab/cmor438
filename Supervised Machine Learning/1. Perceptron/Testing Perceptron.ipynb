{
 "cells": [
  {
   "cell_type": "code",
   "execution_count": 1,
   "metadata": {},
   "outputs": [],
   "source": [
    "import numpy as np\n",
    "import pandas as pd\n",
    "import seaborn as sb\n",
    "#%pip install sklearn\n",
    "#from sklearn.model_selection import train_test_split\n",
    "from Perceptron import Perceptron"
   ]
  },
  {
   "cell_type": "code",
   "execution_count": 2,
   "metadata": {},
   "outputs": [],
   "source": [
    "def train_test_split(X, y, test_size=0.2, random_state=None):\n",
    "    \"\"\"\n",
    "    Manually splits the dataset into training and testing sets.\n",
    "\n",
    "    Parameters:\n",
    "        X (np.array): Features (2D array).\n",
    "        y (np.array): Labels (1D array).\n",
    "        test_size (float): Proportion of the dataset to include in the test split (e.g., 0.2 for 20%).\n",
    "        random_state (int): Seed for random shuffling.\n",
    "\n",
    "    Returns:\n",
    "        X_train, X_test, y_train, y_test: Training and testing sets.\n",
    "    \"\"\"\n",
    "    # Set the random seed for reproducibility\n",
    "    if random_state is not None:\n",
    "        np.random.seed(random_state)\n",
    "\n",
    "    # Shuffle the dataset\n",
    "    indices = np.arange(X.shape[0])  # Create an array of indices\n",
    "    np.random.shuffle(indices)  # Shuffle the indices\n",
    "\n",
    "    # Split the indices into training and testing sets\n",
    "    split_idx = int(X.shape[0] * (1 - test_size))  # Calculate the split index\n",
    "    train_indices = indices[:split_idx]  # Training indices\n",
    "    test_indices = indices[split_idx:]  # Testing indices\n",
    "\n",
    "    # Split the data\n",
    "    X_train, X_test = X[train_indices], X[test_indices]\n",
    "    y_train, y_test = y[train_indices], y[test_indices]\n",
    "\n",
    "    return X_train, X_test, y_train, y_test\n"
   ]
  },
  {
   "cell_type": "code",
   "execution_count": 9,
   "metadata": {},
   "outputs": [],
   "source": [
    "data = sb.load_dataset('Iris')"
   ]
  },
  {
   "cell_type": "code",
   "execution_count": 10,
   "metadata": {},
   "outputs": [],
   "source": [
    "new_perceptron = Perceptron(learning_rate = 0.01, n_iters = 10000)\n",
    "X = data[['sepal_length', 'sepal_width', 'petal_length', 'petal_width']]\n",
    "X = X.apply(pd.to_numeric, errors='coerce')\n",
    "X = X.to_numpy()\n",
    "#print(X.dtypes)\n",
    "#X = X.fillna(0)\n",
    "\n",
    "y = np.where(data['species'] == 'setosa', 1, -1)\n",
    "y = y.astype(np.int64)\n",
    "#y = y.to_numpy()\n",
    "#print(y.dtype)\n",
    "\n",
    "X_train, X_test, y_train, y_test = train_test_split(X, y, test_size = 0.2)\n",
    "\n",
    "new_perceptron.fit(X_train, y_train)"
   ]
  },
  {
   "cell_type": "code",
   "execution_count": 11,
   "metadata": {},
   "outputs": [
    {
     "name": "stdout",
     "output_type": "stream",
     "text": [
      "Accuracy: 100.00%\n"
     ]
    }
   ],
   "source": [
    "predictions = new_perceptron.predict(X_test)\n",
    "accuracy = np.mean(predictions == y_test)\n",
    "print(f\"Accuracy: {accuracy * 100:.2f}%\")\n"
   ]
  }
 ],
 "metadata": {
  "kernelspec": {
   "display_name": "base",
   "language": "python",
   "name": "python3"
  },
  "language_info": {
   "codemirror_mode": {
    "name": "ipython",
    "version": 3
   },
   "file_extension": ".py",
   "mimetype": "text/x-python",
   "name": "python",
   "nbconvert_exporter": "python",
   "pygments_lexer": "ipython3",
   "version": "3.11.5"
  }
 },
 "nbformat": 4,
 "nbformat_minor": 2
}
